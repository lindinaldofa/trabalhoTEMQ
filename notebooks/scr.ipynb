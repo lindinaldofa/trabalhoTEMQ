{
 "cells": [
  {
   "cell_type": "markdown",
   "metadata": {},
   "source": [
    "### Notebook utilizado para tratamento da base de dados do SCR - Sistema de Informações de Créditos do Bacen.\n",
    "\n",
    "#### Os arquivos foram baixados no portal de dados abertos do Bacen, disponível no link: https://dadosabertos.bcb.gov.br/dataset/scr_data\n",
    "#### Em seguida, foram extraídos na pasta local E:/Apps/Dados/SCR\n",
    "#### Serão utilizados os dados relativos ao mês de dezembro de 2022, mesmo período das informações da RAIS.\n",
    "##### Os arquivos não foram incluídos no projeto por serem muito grandes."
   ]
  },
  {
   "cell_type": "code",
   "execution_count": 1,
   "metadata": {},
   "outputs": [],
   "source": [
    "# Importando bibliotecas\n",
    "import pandas as pd\n",
    "import requests\n",
    "import json"
   ]
  },
  {
   "cell_type": "code",
   "execution_count": 2,
   "metadata": {},
   "outputs": [],
   "source": [
    "# Definindo as colunas que serão utilizadas.\n",
    "columns = ['data_base','uf','tcb','cliente','cnae_secao','cnae_subclasse','porte','modalidade','numero_de_operacoes','carteira_ativa']\n",
    "\n",
    "# Importando a base de dados do SCR referente a Dezembro de 2022.\n",
    "d = pd.read_csv('E:/Apps/Dados/SCR/planilha_2022/planilha_202212.csv', delimiter=';', usecols=columns, low_memory=False)\n",
    "\n",
    "# Definindo a base de dados com as informações de Pessoas Jurídicas.\n",
    "df = d[d.cliente == 'PJ'].copy()"
   ]
  },
  {
   "cell_type": "markdown",
   "metadata": {},
   "source": [
    "##### A coluna 'cnae_subclasse' está configurada com as descrições da CNAE, mas precisaremos das informações dos códigos da CNAE.\n",
    "##### Será criado um arquivo json que permita converter as descrições em códigos, conforme o padrão CNAE - Subclasses 2.3 do IBGE."
   ]
  },
  {
   "cell_type": "code",
   "execution_count": 3,
   "metadata": {},
   "outputs": [],
   "source": [
    "# Removendo a parte inicial 'PJ - ' de cnae_subclasse.\n",
    "df.cnae_subclasse = df.cnae_subclasse.apply(lambda x: x[5:])\n",
    "\n",
    "# Criando cnae_sub com as descrições sem duplicações.\n",
    "cnae_sub = df.cnae_subclasse.unique()"
   ]
  },
  {
   "cell_type": "code",
   "execution_count": 4,
   "metadata": {},
   "outputs": [],
   "source": [
    "# Pegando as informações da CNAE Subclasses no IBGE.\n",
    "r = requests.get('https://servicodados.ibge.gov.br/api/v2/cnae/subclasses')\n",
    "subclasses = json.loads(r.content)\n",
    "\n",
    "# Criando um DataFrame com as subclasses\n",
    "dfsub = pd.DataFrame(subclasses)"
   ]
  },
  {
   "cell_type": "code",
   "execution_count": 5,
   "metadata": {},
   "outputs": [
    {
     "name": "stdout",
     "output_type": "stream",
     "text": [
      "Erros:  113\n",
      "Sucesso:  1128\n"
     ]
    }
   ],
   "source": [
    "# Criando o dicionário cnaes no formato: {\"descricao\": código,...}\n",
    "cnaes = {}\n",
    "c = 0\n",
    "s = 0\n",
    "for d in cnae_sub:\n",
    "    try:\n",
    "        id = dfsub.classe[dfsub.descricao == d.upper()].iloc[0]['id']\n",
    "        s += 1   \n",
    "    except:\n",
    "        id = 0\n",
    "        c += 1\n",
    "    cnaes[d] = id\n",
    "print('Erros: ', c)\n",
    "print('Sucesso: ', s)"
   ]
  },
  {
   "cell_type": "markdown",
   "metadata": {},
   "source": [
    "##### Infelizmente há divergências em algumas descrições em cnae_subclasse e nas descrições fornecidas pelo IBGE.\n",
    "##### Totos os erros foram resolvidos após alguns ajustes em cnae_subclasse e verificação manual no link: https://cnae.ibge.gov.br/"
   ]
  },
  {
   "cell_type": "code",
   "execution_count": 8,
   "metadata": {},
   "outputs": [],
   "source": [
    "# Salvando o arquivo json sem erros\n",
    "#with open(\"../assets/cnaes.json\", \"w\", encoding=\"utf-8\") as arquivo:\n",
    "#    json.dump(cnaes, arquivo, ensure_ascii=False, indent=4)"
   ]
  },
  {
   "cell_type": "markdown",
   "metadata": {},
   "source": [
    "##### Utilizando o arquivo cnaes.json"
   ]
  },
  {
   "cell_type": "code",
   "execution_count": 6,
   "metadata": {},
   "outputs": [],
   "source": [
    "# Abrindo o arquivo novamente, caso seja necessário.\n",
    "with open(\"../assets/cnaes.json\", \"r\", encoding=\"utf-8\") as arquivo:\n",
    "    cnaes = json.load(arquivo)"
   ]
  },
  {
   "cell_type": "code",
   "execution_count": 7,
   "metadata": {},
   "outputs": [],
   "source": [
    "# Função para converter descrição por código da CNAE.\n",
    "erro = []\n",
    "def get_idcnaes(descricao):\n",
    "    try:\n",
    "        descricao = str(descricao)\n",
    "        id = cnaes[descricao]\n",
    "    except:\n",
    "        id = ''\n",
    "        if len(descricao)>0:\n",
    "            erro.append(descricao)\n",
    "    return id"
   ]
  },
  {
   "cell_type": "code",
   "execution_count": 8,
   "metadata": {},
   "outputs": [
    {
     "name": "stdout",
     "output_type": "stream",
     "text": [
      "Sem erros.\n"
     ]
    }
   ],
   "source": [
    "# Criando coluna com os códigos.\n",
    "df['ID CNAE'] = df.cnae_subclasse.apply(lambda x: get_idcnaes(x))\n",
    "\n",
    "# Importante verificar se ocorreram erros.\n",
    "if len(erro)>0:\n",
    "    print('Há erros para corrigir:')\n",
    "    erro\n",
    "else:\n",
    "    print('Sem erros.')"
   ]
  },
  {
   "cell_type": "markdown",
   "metadata": {},
   "source": [
    "##### Importante considerar que na base de dados do SCR, quando a combinação CNAE Subclasse x UF x Porte resulta em 5 ou menos CNPJs no cadastro da RFB é reportado apenas o CNAE Seção. [Ver metodolia do SCR.data](https://www.bcb.gov.br/content/estabilidadefinanceira/scr/scr.data/scr_data_metodologia.pdf)\n",
    "##### Como precisaremos do CNAE Subclasse para os fins desse projeto, devemos verificar a dimensão desses casos."
   ]
  },
  {
   "cell_type": "code",
   "execution_count": 11,
   "metadata": {},
   "outputs": [
    {
     "name": "stdout",
     "output_type": "stream",
     "text": [
      "Total: 2080771273012.8503 | Sem subclasse: 102493143528.53 | Com subclasse: 1978278129484.3198\n",
      "Sem Subclasse representa 4.93% do total\n"
     ]
    }
   ],
   "source": [
    "# Convertendo carteira_ativa em float.\n",
    "df.carteira_ativa = df.carteira_ativa.apply(lambda x: x.replace(',','.')).astype('float')\n",
    "# Total da carteira_ativa\n",
    "t = df.carteira_ativa.sum()\n",
    "# Total da carteira_ativa SEM a CNAE Subclasse\n",
    "tsem = df.carteira_ativa[(df.cnae_subclasse == '') | (df.cnae_subclasse == '-')].sum()\n",
    "# Total da carteira_ativa COM a CNAE Subclasse\n",
    "tcom = df.carteira_ativa[(df.cnae_subclasse != '') & (df.cnae_subclasse != '-')].sum()\n",
    "print('Total: {0} | Sem subclasse: {1} | Com subclasse: {2}'.format(t,tsem,tcom))\n",
    "print('Sem Subclasse representa {0}% do total'.format(((tsem*100)/t).round(2)))"
   ]
  },
  {
   "cell_type": "markdown",
   "metadata": {},
   "source": [
    "##### Em termos globais, o montante da carteira_ativa sem CNAE Subclasse é inferior a 5% do total.\n",
    "##### Vamos verificar qual o percentual por estado."
   ]
  },
  {
   "cell_type": "code",
   "execution_count": 13,
   "metadata": {},
   "outputs": [
    {
     "data": {
      "text/html": [
       "<div>\n",
       "<style scoped>\n",
       "    .dataframe tbody tr th:only-of-type {\n",
       "        vertical-align: middle;\n",
       "    }\n",
       "\n",
       "    .dataframe tbody tr th {\n",
       "        vertical-align: top;\n",
       "    }\n",
       "\n",
       "    .dataframe thead th {\n",
       "        text-align: right;\n",
       "    }\n",
       "</style>\n",
       "<table border=\"1\" class=\"dataframe\">\n",
       "  <thead>\n",
       "    <tr style=\"text-align: right;\">\n",
       "      <th></th>\n",
       "      <th>uf</th>\n",
       "      <th>%</th>\n",
       "    </tr>\n",
       "  </thead>\n",
       "  <tbody>\n",
       "    <tr>\n",
       "      <th>0</th>\n",
       "      <td>AC</td>\n",
       "      <td>25.591993</td>\n",
       "    </tr>\n",
       "    <tr>\n",
       "      <th>1</th>\n",
       "      <td>AL</td>\n",
       "      <td>6.831319</td>\n",
       "    </tr>\n",
       "    <tr>\n",
       "      <th>2</th>\n",
       "      <td>AM</td>\n",
       "      <td>9.009896</td>\n",
       "    </tr>\n",
       "    <tr>\n",
       "      <th>3</th>\n",
       "      <td>AP</td>\n",
       "      <td>17.218464</td>\n",
       "    </tr>\n",
       "    <tr>\n",
       "      <th>4</th>\n",
       "      <td>BA</td>\n",
       "      <td>10.690224</td>\n",
       "    </tr>\n",
       "    <tr>\n",
       "      <th>5</th>\n",
       "      <td>CE</td>\n",
       "      <td>15.103630</td>\n",
       "    </tr>\n",
       "    <tr>\n",
       "      <th>6</th>\n",
       "      <td>DF</td>\n",
       "      <td>4.444875</td>\n",
       "    </tr>\n",
       "    <tr>\n",
       "      <th>7</th>\n",
       "      <td>ES</td>\n",
       "      <td>7.493176</td>\n",
       "    </tr>\n",
       "    <tr>\n",
       "      <th>8</th>\n",
       "      <td>GO</td>\n",
       "      <td>4.661370</td>\n",
       "    </tr>\n",
       "    <tr>\n",
       "      <th>9</th>\n",
       "      <td>MA</td>\n",
       "      <td>7.000124</td>\n",
       "    </tr>\n",
       "    <tr>\n",
       "      <th>10</th>\n",
       "      <td>MG</td>\n",
       "      <td>4.675380</td>\n",
       "    </tr>\n",
       "    <tr>\n",
       "      <th>11</th>\n",
       "      <td>MS</td>\n",
       "      <td>9.621462</td>\n",
       "    </tr>\n",
       "    <tr>\n",
       "      <th>12</th>\n",
       "      <td>MT</td>\n",
       "      <td>8.596222</td>\n",
       "    </tr>\n",
       "    <tr>\n",
       "      <th>13</th>\n",
       "      <td>PA</td>\n",
       "      <td>6.872096</td>\n",
       "    </tr>\n",
       "    <tr>\n",
       "      <th>14</th>\n",
       "      <td>PB</td>\n",
       "      <td>13.954313</td>\n",
       "    </tr>\n",
       "    <tr>\n",
       "      <th>15</th>\n",
       "      <td>PE</td>\n",
       "      <td>11.990669</td>\n",
       "    </tr>\n",
       "    <tr>\n",
       "      <th>16</th>\n",
       "      <td>PI</td>\n",
       "      <td>13.278365</td>\n",
       "    </tr>\n",
       "    <tr>\n",
       "      <th>17</th>\n",
       "      <td>PR</td>\n",
       "      <td>3.245098</td>\n",
       "    </tr>\n",
       "    <tr>\n",
       "      <th>18</th>\n",
       "      <td>RJ</td>\n",
       "      <td>1.904565</td>\n",
       "    </tr>\n",
       "    <tr>\n",
       "      <th>19</th>\n",
       "      <td>RN</td>\n",
       "      <td>7.468445</td>\n",
       "    </tr>\n",
       "    <tr>\n",
       "      <th>20</th>\n",
       "      <td>RO</td>\n",
       "      <td>12.709743</td>\n",
       "    </tr>\n",
       "    <tr>\n",
       "      <th>21</th>\n",
       "      <td>RR</td>\n",
       "      <td>27.273454</td>\n",
       "    </tr>\n",
       "    <tr>\n",
       "      <th>22</th>\n",
       "      <td>RS</td>\n",
       "      <td>6.623205</td>\n",
       "    </tr>\n",
       "    <tr>\n",
       "      <th>23</th>\n",
       "      <td>SC</td>\n",
       "      <td>4.355390</td>\n",
       "    </tr>\n",
       "    <tr>\n",
       "      <th>24</th>\n",
       "      <td>SE</td>\n",
       "      <td>15.360792</td>\n",
       "    </tr>\n",
       "    <tr>\n",
       "      <th>25</th>\n",
       "      <td>SP</td>\n",
       "      <td>2.951530</td>\n",
       "    </tr>\n",
       "    <tr>\n",
       "      <th>26</th>\n",
       "      <td>TO</td>\n",
       "      <td>11.953948</td>\n",
       "    </tr>\n",
       "  </tbody>\n",
       "</table>\n",
       "</div>"
      ],
      "text/plain": [
       "    uf          %\n",
       "0   AC  25.591993\n",
       "1   AL   6.831319\n",
       "2   AM   9.009896\n",
       "3   AP  17.218464\n",
       "4   BA  10.690224\n",
       "5   CE  15.103630\n",
       "6   DF   4.444875\n",
       "7   ES   7.493176\n",
       "8   GO   4.661370\n",
       "9   MA   7.000124\n",
       "10  MG   4.675380\n",
       "11  MS   9.621462\n",
       "12  MT   8.596222\n",
       "13  PA   6.872096\n",
       "14  PB  13.954313\n",
       "15  PE  11.990669\n",
       "16  PI  13.278365\n",
       "17  PR   3.245098\n",
       "18  RJ   1.904565\n",
       "19  RN   7.468445\n",
       "20  RO  12.709743\n",
       "21  RR  27.273454\n",
       "22  RS   6.623205\n",
       "23  SC   4.355390\n",
       "24  SE  15.360792\n",
       "25  SP   2.951530\n",
       "26  TO  11.953948"
      ]
     },
     "execution_count": 13,
     "metadata": {},
     "output_type": "execute_result"
    }
   ],
   "source": [
    "# Criando coluna com total da carteira_ativa sem CNAE Subclasse por uf.\n",
    "df['carteira_ativa_sem_sub'] = df[df['ID CNAE'] == ''].groupby(['uf'])['carteira_ativa'].transform('sum')\n",
    "# Criando DataFrame agregado por ur para verificação.\n",
    "dfsemsubs = df[['uf','carteira_ativa','carteira_ativa_sem_sub']].groupby(['uf'], as_index=False).agg({'carteira_ativa': 'sum', 'carteira_ativa_sem_sub': 'first'})\n",
    "# Adicionando coluna com percentual da carteira_ativa_sem_sub por uf.\n",
    "dfsemsubs['%'] = dfsemsubs.carteira_ativa_sem_sub*100/dfsemsubs.carteira_ativa\n",
    "dfsemsubs[['uf','%']]"
   ]
  },
  {
   "cell_type": "markdown",
   "metadata": {},
   "source": [
    "##### Podemos notar que o percentual é bem significativo em estados como Acre, Roraima, Amapá e outros, enquanto assume os menores valores no Rio de Janeiro, São Paulo e Paraná. Esse resultado aparenta ser condizente com a realidade dos estados e o critério utilizado na metodologia para criação dessa base de dados.\n",
    "##### Os resultados futuros do projeto devem considerar essa caracteristica da base de dados do SCR."
   ]
  },
  {
   "cell_type": "code",
   "execution_count": 14,
   "metadata": {},
   "outputs": [],
   "source": [
    "# Salvando a base de dados do SCR\n",
    "df.to_pickle('../assets/scr122022.pkl',  compression='gzip')"
   ]
  }
 ],
 "metadata": {
  "kernelspec": {
   "display_name": "Mestrado",
   "language": "python",
   "name": "python3"
  },
  "language_info": {
   "codemirror_mode": {
    "name": "ipython",
    "version": 3
   },
   "file_extension": ".py",
   "mimetype": "text/x-python",
   "name": "python",
   "nbconvert_exporter": "python",
   "pygments_lexer": "ipython3",
   "version": "3.10.1"
  }
 },
 "nbformat": 4,
 "nbformat_minor": 2
}
